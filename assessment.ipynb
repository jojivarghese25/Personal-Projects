{
 "cells": [
  {
   "cell_type": "markdown",
   "metadata": {},
   "source": [
    "# Problem Statement\n",
    "A client has put several of their employees through some  assessments. Their scores are in one of the attached files.\n",
    "\n",
    "The client has also provided us with performance ratings of the employees using three categories, A, B and C, where A is highest and C is lowest. This data is in the other attached file\n",
    "\n",
    "- Determine what the relationships are (if any) between the  scores and the performance ratings. Produce a summary of your findings for the client.\n",
    "\n",
    "- If possible, build a predictive model of the performance ratings using  scores. The client may want to use such a model in their recruitment process. Produce a summary of your modelling process and any resulting models.\n"
   ]
  },
  {
   "cell_type": "code",
   "execution_count": 1,
   "metadata": {},
   "outputs": [],
   "source": [
    "import pandas as pd\n",
    "import matplotlib.pyplot as plt\n",
    "import seaborn as sns\n",
    "import numpy as np"
   ]
  },
  {
   "cell_type": "code",
   "execution_count": 2,
   "metadata": {},
   "outputs": [
    {
     "data": {
      "text/html": [
       "<div>\n",
       "<style scoped>\n",
       "    .dataframe tbody tr th:only-of-type {\n",
       "        vertical-align: middle;\n",
       "    }\n",
       "\n",
       "    .dataframe tbody tr th {\n",
       "        vertical-align: top;\n",
       "    }\n",
       "\n",
       "    .dataframe thead th {\n",
       "        text-align: right;\n",
       "    }\n",
       "</style>\n",
       "<table border=\"1\" class=\"dataframe\">\n",
       "  <thead>\n",
       "    <tr style=\"text-align: right;\">\n",
       "      <th></th>\n",
       "      <th>AccountId</th>\n",
       "      <th>Area</th>\n",
       "      <th>Dimension</th>\n",
       "      <th>Attribute</th>\n",
       "      <th>Assessment</th>\n",
       "      <th>AssessmentVersion</th>\n",
       "      <th>MainScore</th>\n",
       "      <th>MainScoreType</th>\n",
       "      <th>Percentile</th>\n",
       "      <th>Percentage</th>\n",
       "      <th>STEN</th>\n",
       "    </tr>\n",
       "  </thead>\n",
       "  <tbody>\n",
       "    <tr>\n",
       "      <th>0</th>\n",
       "      <td>0</td>\n",
       "      <td>Behaviour</td>\n",
       "      <td>Control Strategy</td>\n",
       "      <td>Control</td>\n",
       "      <td>VentureView</td>\n",
       "      <td>Venture View V1</td>\n",
       "      <td>60.27</td>\n",
       "      <td>Percentage</td>\n",
       "      <td>7</td>\n",
       "      <td>60.27</td>\n",
       "      <td>3</td>\n",
       "    </tr>\n",
       "    <tr>\n",
       "      <th>1</th>\n",
       "      <td>0</td>\n",
       "      <td>Behaviour</td>\n",
       "      <td>Control Strategy</td>\n",
       "      <td>Control (Scenario1)</td>\n",
       "      <td>VentureView</td>\n",
       "      <td>Venture View V1</td>\n",
       "      <td>67.86</td>\n",
       "      <td>Percentage</td>\n",
       "      <td>22</td>\n",
       "      <td>67.86</td>\n",
       "      <td>4</td>\n",
       "    </tr>\n",
       "    <tr>\n",
       "      <th>2</th>\n",
       "      <td>0</td>\n",
       "      <td>Behaviour</td>\n",
       "      <td>Control Strategy</td>\n",
       "      <td>Control (Scenario2)</td>\n",
       "      <td>VentureView</td>\n",
       "      <td>Venture View V1</td>\n",
       "      <td>62.50</td>\n",
       "      <td>Percentage</td>\n",
       "      <td>27</td>\n",
       "      <td>62.50</td>\n",
       "      <td>4</td>\n",
       "    </tr>\n",
       "    <tr>\n",
       "      <th>3</th>\n",
       "      <td>0</td>\n",
       "      <td>Behaviour</td>\n",
       "      <td>Control Strategy</td>\n",
       "      <td>Control (Scenario3)</td>\n",
       "      <td>VentureView</td>\n",
       "      <td>Venture View V1</td>\n",
       "      <td>55.36</td>\n",
       "      <td>Percentage</td>\n",
       "      <td>7</td>\n",
       "      <td>55.36</td>\n",
       "      <td>3</td>\n",
       "    </tr>\n",
       "    <tr>\n",
       "      <th>4</th>\n",
       "      <td>0</td>\n",
       "      <td>Behaviour</td>\n",
       "      <td>Control Strategy</td>\n",
       "      <td>Control (Scenario4)</td>\n",
       "      <td>VentureView</td>\n",
       "      <td>Venture View V1</td>\n",
       "      <td>55.36</td>\n",
       "      <td>Percentage</td>\n",
       "      <td>4</td>\n",
       "      <td>55.36</td>\n",
       "      <td>2</td>\n",
       "    </tr>\n",
       "  </tbody>\n",
       "</table>\n",
       "</div>"
      ],
      "text/plain": [
       "   AccountId       Area         Dimension            Attribute   Assessment  \\\n",
       "0          0  Behaviour  Control Strategy              Control  VentureView   \n",
       "1          0  Behaviour  Control Strategy  Control (Scenario1)  VentureView   \n",
       "2          0  Behaviour  Control Strategy  Control (Scenario2)  VentureView   \n",
       "3          0  Behaviour  Control Strategy  Control (Scenario3)  VentureView   \n",
       "4          0  Behaviour  Control Strategy  Control (Scenario4)  VentureView   \n",
       "\n",
       "  AssessmentVersion  MainScore MainScoreType  Percentile  Percentage  STEN  \n",
       "0   Venture View V1      60.27    Percentage           7       60.27     3  \n",
       "1   Venture View V1      67.86    Percentage          22       67.86     4  \n",
       "2   Venture View V1      62.50    Percentage          27       62.50     4  \n",
       "3   Venture View V1      55.36    Percentage           7       55.36     3  \n",
       "4   Venture View V1      55.36    Percentage           4       55.36     2  "
      ]
     },
     "execution_count": 2,
     "metadata": {},
     "output_type": "execute_result"
    }
   ],
   "source": [
    "# Loading account attribute\n",
    "account_attribute = pd.read_csv(\"account attribute score.csv\")\n",
    "account_attribute.head()"
   ]
  },
  {
   "cell_type": "code",
   "execution_count": 3,
   "metadata": {},
   "outputs": [
    {
     "data": {
      "text/html": [
       "<div>\n",
       "<style scoped>\n",
       "    .dataframe tbody tr th:only-of-type {\n",
       "        vertical-align: middle;\n",
       "    }\n",
       "\n",
       "    .dataframe tbody tr th {\n",
       "        vertical-align: top;\n",
       "    }\n",
       "\n",
       "    .dataframe thead th {\n",
       "        text-align: right;\n",
       "    }\n",
       "</style>\n",
       "<table border=\"1\" class=\"dataframe\">\n",
       "  <thead>\n",
       "    <tr style=\"text-align: right;\">\n",
       "      <th></th>\n",
       "      <th>AccountId</th>\n",
       "      <th>Group</th>\n",
       "    </tr>\n",
       "  </thead>\n",
       "  <tbody>\n",
       "    <tr>\n",
       "      <th>0</th>\n",
       "      <td>0</td>\n",
       "      <td>B</td>\n",
       "    </tr>\n",
       "    <tr>\n",
       "      <th>1</th>\n",
       "      <td>1</td>\n",
       "      <td>C</td>\n",
       "    </tr>\n",
       "    <tr>\n",
       "      <th>2</th>\n",
       "      <td>2</td>\n",
       "      <td>C</td>\n",
       "    </tr>\n",
       "    <tr>\n",
       "      <th>3</th>\n",
       "      <td>3</td>\n",
       "      <td>A</td>\n",
       "    </tr>\n",
       "    <tr>\n",
       "      <th>4</th>\n",
       "      <td>4</td>\n",
       "      <td>A</td>\n",
       "    </tr>\n",
       "  </tbody>\n",
       "</table>\n",
       "</div>"
      ],
      "text/plain": [
       "   AccountId Group\n",
       "0          0     B\n",
       "1          1     C\n",
       "2          2     C\n",
       "3          3     A\n",
       "4          4     A"
      ]
     },
     "execution_count": 3,
     "metadata": {},
     "output_type": "execute_result"
    }
   ],
   "source": [
    "# Loading account group\n",
    "account_group = pd.read_csv(\"account group.csv\")\n",
    "account_group.head()"
   ]
  },
  {
   "cell_type": "code",
   "execution_count": 4,
   "metadata": {},
   "outputs": [
    {
     "data": {
      "text/html": [
       "<div>\n",
       "<style scoped>\n",
       "    .dataframe tbody tr th:only-of-type {\n",
       "        vertical-align: middle;\n",
       "    }\n",
       "\n",
       "    .dataframe tbody tr th {\n",
       "        vertical-align: top;\n",
       "    }\n",
       "\n",
       "    .dataframe thead th {\n",
       "        text-align: right;\n",
       "    }\n",
       "</style>\n",
       "<table border=\"1\" class=\"dataframe\">\n",
       "  <thead>\n",
       "    <tr style=\"text-align: right;\">\n",
       "      <th></th>\n",
       "      <th>AccountId</th>\n",
       "      <th>Area</th>\n",
       "      <th>Dimension</th>\n",
       "      <th>Attribute</th>\n",
       "      <th>Assessment</th>\n",
       "      <th>AssessmentVersion</th>\n",
       "      <th>MainScore</th>\n",
       "      <th>MainScoreType</th>\n",
       "      <th>Percentile</th>\n",
       "      <th>Percentage</th>\n",
       "      <th>STEN</th>\n",
       "      <th>Group</th>\n",
       "    </tr>\n",
       "  </thead>\n",
       "  <tbody>\n",
       "    <tr>\n",
       "      <th>0</th>\n",
       "      <td>0</td>\n",
       "      <td>Behaviour</td>\n",
       "      <td>Control Strategy</td>\n",
       "      <td>Control</td>\n",
       "      <td>VentureView</td>\n",
       "      <td>Venture View V1</td>\n",
       "      <td>60.27</td>\n",
       "      <td>Percentage</td>\n",
       "      <td>7</td>\n",
       "      <td>60.27</td>\n",
       "      <td>3</td>\n",
       "      <td>B</td>\n",
       "    </tr>\n",
       "    <tr>\n",
       "      <th>1</th>\n",
       "      <td>0</td>\n",
       "      <td>Behaviour</td>\n",
       "      <td>Control Strategy</td>\n",
       "      <td>Control (Scenario1)</td>\n",
       "      <td>VentureView</td>\n",
       "      <td>Venture View V1</td>\n",
       "      <td>67.86</td>\n",
       "      <td>Percentage</td>\n",
       "      <td>22</td>\n",
       "      <td>67.86</td>\n",
       "      <td>4</td>\n",
       "      <td>B</td>\n",
       "    </tr>\n",
       "    <tr>\n",
       "      <th>2</th>\n",
       "      <td>0</td>\n",
       "      <td>Behaviour</td>\n",
       "      <td>Control Strategy</td>\n",
       "      <td>Control (Scenario2)</td>\n",
       "      <td>VentureView</td>\n",
       "      <td>Venture View V1</td>\n",
       "      <td>62.50</td>\n",
       "      <td>Percentage</td>\n",
       "      <td>27</td>\n",
       "      <td>62.50</td>\n",
       "      <td>4</td>\n",
       "      <td>B</td>\n",
       "    </tr>\n",
       "    <tr>\n",
       "      <th>3</th>\n",
       "      <td>0</td>\n",
       "      <td>Behaviour</td>\n",
       "      <td>Control Strategy</td>\n",
       "      <td>Control (Scenario3)</td>\n",
       "      <td>VentureView</td>\n",
       "      <td>Venture View V1</td>\n",
       "      <td>55.36</td>\n",
       "      <td>Percentage</td>\n",
       "      <td>7</td>\n",
       "      <td>55.36</td>\n",
       "      <td>3</td>\n",
       "      <td>B</td>\n",
       "    </tr>\n",
       "    <tr>\n",
       "      <th>4</th>\n",
       "      <td>0</td>\n",
       "      <td>Behaviour</td>\n",
       "      <td>Control Strategy</td>\n",
       "      <td>Control (Scenario4)</td>\n",
       "      <td>VentureView</td>\n",
       "      <td>Venture View V1</td>\n",
       "      <td>55.36</td>\n",
       "      <td>Percentage</td>\n",
       "      <td>4</td>\n",
       "      <td>55.36</td>\n",
       "      <td>2</td>\n",
       "      <td>B</td>\n",
       "    </tr>\n",
       "  </tbody>\n",
       "</table>\n",
       "</div>"
      ],
      "text/plain": [
       "   AccountId       Area         Dimension            Attribute   Assessment  \\\n",
       "0          0  Behaviour  Control Strategy              Control  VentureView   \n",
       "1          0  Behaviour  Control Strategy  Control (Scenario1)  VentureView   \n",
       "2          0  Behaviour  Control Strategy  Control (Scenario2)  VentureView   \n",
       "3          0  Behaviour  Control Strategy  Control (Scenario3)  VentureView   \n",
       "4          0  Behaviour  Control Strategy  Control (Scenario4)  VentureView   \n",
       "\n",
       "  AssessmentVersion  MainScore MainScoreType  Percentile  Percentage  STEN  \\\n",
       "0   Venture View V1      60.27    Percentage           7       60.27     3   \n",
       "1   Venture View V1      67.86    Percentage          22       67.86     4   \n",
       "2   Venture View V1      62.50    Percentage          27       62.50     4   \n",
       "3   Venture View V1      55.36    Percentage           7       55.36     3   \n",
       "4   Venture View V1      55.36    Percentage           4       55.36     2   \n",
       "\n",
       "  Group  \n",
       "0     B  \n",
       "1     B  \n",
       "2     B  \n",
       "3     B  \n",
       "4     B  "
      ]
     },
     "execution_count": 4,
     "metadata": {},
     "output_type": "execute_result"
    }
   ],
   "source": [
    "## Merging two files\n",
    "data=pd.merge(account_attribute,account_group,how=\"inner\",on=\"AccountId\")\n",
    "data.head()"
   ]
  },
  {
   "cell_type": "code",
   "execution_count": 5,
   "metadata": {},
   "outputs": [
    {
     "data": {
      "text/plain": [
       "C    4318\n",
       "B    2896\n",
       "A    1317\n",
       "Name: Group, dtype: int64"
      ]
     },
     "execution_count": 5,
     "metadata": {},
     "output_type": "execute_result"
    }
   ],
   "source": [
    "# Analysing group value\n",
    "data.Group.value_counts()"
   ]
  },
  {
   "cell_type": "code",
   "execution_count": 5,
   "metadata": {},
   "outputs": [
    {
     "data": {
      "text/plain": [
       "C    4318\n",
       "B    2896\n",
       "A    1317\n",
       "Name: Group, dtype: int64"
      ]
     },
     "execution_count": 5,
     "metadata": {},
     "output_type": "execute_result"
    }
   ],
   "source": [
    "data['Group'].value_counts()"
   ]
  },
  {
   "cell_type": "code",
   "execution_count": 7,
   "metadata": {},
   "outputs": [
    {
     "data": {
      "text/plain": [
       "<matplotlib.axes._subplots.AxesSubplot at 0x240fce7cac8>"
      ]
     },
     "execution_count": 7,
     "metadata": {},
     "output_type": "execute_result"
    },
    {
     "data": {
      "image/png": "[encoded data removed]",
      "text/plain": [
       "<Figure size 432x288 with 1 Axes>"
      ]
     },
     "metadata": {},
     "output_type": "display_data"
    }
   ],
   "source": [
    "# Analysing data group value\n",
    "data.Group.value_counts().plot(kind=\"pie\",autopct=\"%1.1f%%\")"
   ]
  },
  {
   "cell_type": "code",
   "execution_count": 7,
   "metadata": {},
   "outputs": [
    {
     "data": {
      "text/plain": [
       "<matplotlib.axes._subplots.AxesSubplot at 0x1c3126c02e8>"
      ]
     },
     "execution_count": 7,
     "metadata": {},
     "output_type": "execute_result"
    },
    {
     "data": {
      "image/png": "[encoded data removed]",
      "text/plain": [
       "<Figure size 432x288 with 1 Axes>"
      ]
     },
     "metadata": {},
     "output_type": "display_data"
    }
   ],
   "source": [
    "data['Group'].value_counts().plot(kind='pie',autopct='%1.1f%%')"
   ]
  },
  {
   "cell_type": "markdown",
   "metadata": {},
   "source": [
    "It can be seen that only 15.4 % are grouped as top performer and 33.9% in the middle ad 50.6 as lowest category"
   ]
  },
  {
   "cell_type": "markdown",
   "metadata": {},
   "source": [
    "### STEN being an abbreviation for 'Standard Ten'\n",
    "\n",
    "* A STEN of 1 or 2 is far below average,\n",
    "* A STEN of 5-7 is average,\n",
    "* A STEN of 9 or 10 is far above average.\n",
    "\n",
    "\n",
    "source : https://www.statisticshowto.datasciencecentral.com/sten-score/"
   ]
  },
  {
   "cell_type": "code",
   "execution_count": 7,
   "metadata": {},
   "outputs": [
    {
     "data": {
      "text/plain": [
       "6     1661\n",
       "5     1440\n",
       "7     1235\n",
       "4     1126\n",
       "8     1065\n",
       "3      711\n",
       "10     659\n",
       "9      406\n",
       "2      263\n",
       "1       99\n",
       "Name: STEN, dtype: int64"
      ]
     },
     "execution_count": 7,
     "metadata": {},
     "output_type": "execute_result"
    }
   ],
   "source": [
    "# Analysing STEN\n",
    "data.STEN.value_counts()"
   ]
  },
  {
   "cell_type": "code",
   "execution_count": 8,
   "metadata": {},
   "outputs": [
    {
     "data": {
      "text/plain": [
       "6     19.169071\n",
       "5     16.618580\n",
       "7     14.252741\n",
       "4     12.994807\n",
       "8     12.290825\n",
       "3      8.205424\n",
       "10     7.605309\n",
       "9      4.685516\n",
       "2      3.035199\n",
       "1      1.142527\n",
       "Name: STEN, dtype: float64"
      ]
     },
     "execution_count": 8,
     "metadata": {},
     "output_type": "execute_result"
    }
   ],
   "source": [
    "# Analysing STEN\n",
    "data.STEN.value_counts(ascending=False)*100/len(data)"
   ]
  },
  {
   "cell_type": "markdown",
   "metadata": {},
   "source": [
    "* It can be inferred that there around **75%** of employees having rating between **4 to 8.**\n",
    "* It can be seen that aroung 19.16% of employess got rating 6\n",
    "* There are around 16.61% of files got rating 5 followed by rating 7\n",
    "* It can be inferred that there around 75% 9f employees having rating between 4 to 8.\n",
    "\n",
    "* 7% of employees got 10 rating anf 1.14% of employees got rating 1"
   ]
  },
  {
   "cell_type": "code",
   "execution_count": 9,
   "metadata": {},
   "outputs": [
    {
     "data": {
      "text/plain": [
       "<matplotlib.axes._subplots.AxesSubplot at 0x123ac7f0>"
      ]
     },
     "execution_count": 9,
     "metadata": {},
     "output_type": "execute_result"
    },
    {
     "data": {
      "image/png": "[encoded data removed]",
      "text/plain": [
       "<Figure size 432x288 with 1 Axes>"
      ]
     },
     "metadata": {},
     "output_type": "display_data"
    }
   ],
   "source": [
    "data.STEN.value_counts().plot(kind=\"pie\",autopct=\"%1.1f%%\")"
   ]
  },
  {
   "cell_type": "code",
   "execution_count": 10,
   "metadata": {},
   "outputs": [
    {
     "data": {
      "text/plain": [
       "STEN          4240\n",
       "Percentage    3499\n",
       "Percentile     926\n",
       "Name: MainScoreType, dtype: int64"
      ]
     },
     "execution_count": 10,
     "metadata": {},
     "output_type": "execute_result"
    }
   ],
   "source": [
    "data.MainScoreType.value_counts()"
   ]
  },
  {
   "cell_type": "code",
   "execution_count": 11,
   "metadata": {},
   "outputs": [
    {
     "data": {
      "text/plain": [
       "<matplotlib.axes._subplots.AxesSubplot at 0x1243cc88>"
      ]
     },
     "execution_count": 11,
     "metadata": {},
     "output_type": "execute_result"
    },
    {
     "data": {
      "image/png": "[encoded data removed]",
      "text/plain": [
       "<Figure size 432x288 with 1 Axes>"
      ]
     },
     "metadata": {},
     "output_type": "display_data"
    }
   ],
   "source": [
    "data.MainScoreType.value_counts().plot(kind=\"pie\",autopct=\"%1.1f%%\")"
   ]
  },
  {
   "cell_type": "code",
   "execution_count": 12,
   "metadata": {},
   "outputs": [
    {
     "data": {
      "text/html": [
       "<div>\n",
       "<style scoped>\n",
       "    .dataframe tbody tr th:only-of-type {\n",
       "        vertical-align: middle;\n",
       "    }\n",
       "\n",
       "    .dataframe tbody tr th {\n",
       "        vertical-align: top;\n",
       "    }\n",
       "\n",
       "    .dataframe thead th {\n",
       "        text-align: right;\n",
       "    }\n",
       "</style>\n",
       "<table border=\"1\" class=\"dataframe\">\n",
       "  <thead>\n",
       "    <tr style=\"text-align: right;\">\n",
       "      <th>Group</th>\n",
       "      <th>A</th>\n",
       "      <th>B</th>\n",
       "      <th>C</th>\n",
       "    </tr>\n",
       "    <tr>\n",
       "      <th>STEN</th>\n",
       "      <th></th>\n",
       "      <th></th>\n",
       "      <th></th>\n",
       "    </tr>\n",
       "  </thead>\n",
       "  <tbody>\n",
       "    <tr>\n",
       "      <th>1</th>\n",
       "      <td>5</td>\n",
       "      <td>39</td>\n",
       "      <td>54</td>\n",
       "    </tr>\n",
       "    <tr>\n",
       "      <th>2</th>\n",
       "      <td>34</td>\n",
       "      <td>89</td>\n",
       "      <td>139</td>\n",
       "    </tr>\n",
       "    <tr>\n",
       "      <th>3</th>\n",
       "      <td>102</td>\n",
       "      <td>237</td>\n",
       "      <td>369</td>\n",
       "    </tr>\n",
       "    <tr>\n",
       "      <th>4</th>\n",
       "      <td>177</td>\n",
       "      <td>369</td>\n",
       "      <td>556</td>\n",
       "    </tr>\n",
       "    <tr>\n",
       "      <th>5</th>\n",
       "      <td>185</td>\n",
       "      <td>488</td>\n",
       "      <td>743</td>\n",
       "    </tr>\n",
       "    <tr>\n",
       "      <th>6</th>\n",
       "      <td>261</td>\n",
       "      <td>515</td>\n",
       "      <td>861</td>\n",
       "    </tr>\n",
       "    <tr>\n",
       "      <th>7</th>\n",
       "      <td>193</td>\n",
       "      <td>407</td>\n",
       "      <td>617</td>\n",
       "    </tr>\n",
       "    <tr>\n",
       "      <th>8</th>\n",
       "      <td>171</td>\n",
       "      <td>377</td>\n",
       "      <td>500</td>\n",
       "    </tr>\n",
       "    <tr>\n",
       "      <th>9</th>\n",
       "      <td>68</td>\n",
       "      <td>148</td>\n",
       "      <td>182</td>\n",
       "    </tr>\n",
       "    <tr>\n",
       "      <th>10</th>\n",
       "      <td>121</td>\n",
       "      <td>227</td>\n",
       "      <td>297</td>\n",
       "    </tr>\n",
       "  </tbody>\n",
       "</table>\n",
       "</div>"
      ],
      "text/plain": [
       "Group    A    B    C\n",
       "STEN                \n",
       "1        5   39   54\n",
       "2       34   89  139\n",
       "3      102  237  369\n",
       "4      177  369  556\n",
       "5      185  488  743\n",
       "6      261  515  861\n",
       "7      193  407  617\n",
       "8      171  377  500\n",
       "9       68  148  182\n",
       "10     121  227  297"
      ]
     },
     "execution_count": 12,
     "metadata": {},
     "output_type": "execute_result"
    }
   ],
   "source": [
    "pd.crosstab(data.STEN,data.Group)"
   ]
  },
  {
   "cell_type": "code",
   "execution_count": 13,
   "metadata": {},
   "outputs": [
    {
     "data": {
      "text/plain": [
       "Social Cohesion       4240\n",
       "Bespoke               1168\n",
       "Behaviour             1075\n",
       "Career                 924\n",
       "Cognitive              670\n",
       "ABI India Measures     368\n",
       "Emotional               92\n",
       "Health                  85\n",
       "Skills                  29\n",
       "Feedback                14\n",
       "Name: Area, dtype: int64"
      ]
     },
     "execution_count": 13,
     "metadata": {},
     "output_type": "execute_result"
    }
   ],
   "source": [
    "data.Area.value_counts()"
   ]
  },
  {
   "cell_type": "code",
   "execution_count": 14,
   "metadata": {},
   "outputs": [
    {
     "data": {
      "text/html": [
       "<div>\n",
       "<style scoped>\n",
       "    .dataframe tbody tr th:only-of-type {\n",
       "        vertical-align: middle;\n",
       "    }\n",
       "\n",
       "    .dataframe tbody tr th {\n",
       "        vertical-align: top;\n",
       "    }\n",
       "\n",
       "    .dataframe thead th {\n",
       "        text-align: right;\n",
       "    }\n",
       "</style>\n",
       "<table border=\"1\" class=\"dataframe\">\n",
       "  <thead>\n",
       "    <tr style=\"text-align: right;\">\n",
       "      <th>Group</th>\n",
       "      <th>A</th>\n",
       "      <th>B</th>\n",
       "      <th>C</th>\n",
       "    </tr>\n",
       "    <tr>\n",
       "      <th>Area</th>\n",
       "      <th></th>\n",
       "      <th></th>\n",
       "      <th></th>\n",
       "    </tr>\n",
       "  </thead>\n",
       "  <tbody>\n",
       "    <tr>\n",
       "      <th>ABI India Measures</th>\n",
       "      <td>20</td>\n",
       "      <td>60</td>\n",
       "      <td>288</td>\n",
       "    </tr>\n",
       "    <tr>\n",
       "      <th>Behaviour</th>\n",
       "      <td>155</td>\n",
       "      <td>352</td>\n",
       "      <td>551</td>\n",
       "    </tr>\n",
       "    <tr>\n",
       "      <th>Bespoke</th>\n",
       "      <td>198</td>\n",
       "      <td>390</td>\n",
       "      <td>561</td>\n",
       "    </tr>\n",
       "    <tr>\n",
       "      <th>Career</th>\n",
       "      <td>180</td>\n",
       "      <td>342</td>\n",
       "      <td>390</td>\n",
       "    </tr>\n",
       "    <tr>\n",
       "      <th>Cognitive</th>\n",
       "      <td>104</td>\n",
       "      <td>222</td>\n",
       "      <td>331</td>\n",
       "    </tr>\n",
       "    <tr>\n",
       "      <th>Emotional</th>\n",
       "      <td>14</td>\n",
       "      <td>27</td>\n",
       "      <td>49</td>\n",
       "    </tr>\n",
       "    <tr>\n",
       "      <th>Feedback</th>\n",
       "      <td>0</td>\n",
       "      <td>0</td>\n",
       "      <td>14</td>\n",
       "    </tr>\n",
       "    <tr>\n",
       "      <th>Health</th>\n",
       "      <td>13</td>\n",
       "      <td>27</td>\n",
       "      <td>44</td>\n",
       "    </tr>\n",
       "    <tr>\n",
       "      <th>Skills</th>\n",
       "      <td>3</td>\n",
       "      <td>6</td>\n",
       "      <td>20</td>\n",
       "    </tr>\n",
       "    <tr>\n",
       "      <th>Social Cohesion</th>\n",
       "      <td>630</td>\n",
       "      <td>1470</td>\n",
       "      <td>2070</td>\n",
       "    </tr>\n",
       "  </tbody>\n",
       "</table>\n",
       "</div>"
      ],
      "text/plain": [
       "Group                 A     B     C\n",
       "Area                               \n",
       "ABI India Measures   20    60   288\n",
       "Behaviour           155   352   551\n",
       "Bespoke             198   390   561\n",
       "Career              180   342   390\n",
       "Cognitive           104   222   331\n",
       "Emotional            14    27    49\n",
       "Feedback              0     0    14\n",
       "Health               13    27    44\n",
       "Skills                3     6    20\n",
       "Social Cohesion     630  1470  2070"
      ]
     },
     "execution_count": 14,
     "metadata": {},
     "output_type": "execute_result"
    }
   ],
   "source": [
    "pd.crosstab(data.Area,data.Group)"
   ]
  },
  {
   "cell_type": "markdown",
   "metadata": {},
   "source": [
    "IT can be seen from here about various Area where the employees are being measured are grouped"
   ]
  },
  {
   "cell_type": "code",
   "execution_count": 15,
   "metadata": {},
   "outputs": [
    {
     "data": {
      "text/plain": [
       "Culture                   1166\n",
       "Emotional Stability        848\n",
       "Extraversion               848\n",
       "Conscientiousness          848\n",
       "Openness                   848\n",
       "Agreeableness              727\n",
       "Work Values                648\n",
       "Prediction Strategy        470\n",
       "Control Strategy           470\n",
       "ABI India Culture Fit      368\n",
       "Executive Function         356\n",
       "Career Skills              216\n",
       "Risk Taking                125\n",
       "Attention                  123\n",
       "Resilience                 121\n",
       "Speed & Agility             97\n",
       "Memory                      94\n",
       "Emotional Intelligence      91\n",
       "Personal Wellbeing          85\n",
       "Interests                   60\n",
       "Language                    22\n",
       "Workforce Intelligence      14\n",
       "Entrepreneurship            10\n",
       "Numeracy                     7\n",
       "User Experience              2\n",
       "Social Competence            1\n",
       "Name: Dimension, dtype: int64"
      ]
     },
     "execution_count": 15,
     "metadata": {},
     "output_type": "execute_result"
    }
   ],
   "source": [
    "data.Dimension.value_counts()"
   ]
  },
  {
   "cell_type": "code",
   "execution_count": 16,
   "metadata": {},
   "outputs": [
    {
     "data": {
      "text/plain": [
       "Grow Talent                   129\n",
       "Inspire and Motivate          129\n",
       "Demonstrate Resilience        129\n",
       "Think next big opportunity    129\n",
       "Drive Execution               129\n",
       "                             ... \n",
       "Trust in Leadership             2\n",
       "Positive Environment            2\n",
       "Hands on Management             2\n",
       "Controlled Reaction Time        1\n",
       "Intellectual Humility           1\n",
       "Name: Attribute, Length: 152, dtype: int64"
      ]
     },
     "execution_count": 16,
     "metadata": {},
     "output_type": "execute_result"
    }
   ],
   "source": [
    "data.Attribute.value_counts()"
   ]
  },
  {
   "cell_type": "code",
   "execution_count": 17,
   "metadata": {},
   "outputs": [
    {
     "data": {
      "text/plain": [
       "0    VentureView\n",
       "1    VentureView\n",
       "2    VentureView\n",
       "3    VentureView\n",
       "4    VentureView\n",
       "Name: Assessment, dtype: object"
      ]
     },
     "execution_count": 17,
     "metadata": {},
     "output_type": "execute_result"
    }
   ],
   "source": [
    "data.Assessment.head()"
   ]
  },
  {
   "cell_type": "code",
   "execution_count": 18,
   "metadata": {},
   "outputs": [
    {
     "data": {
      "text/plain": [
       "0    Venture View V1\n",
       "1    Venture View V1\n",
       "2    Venture View V1\n",
       "3    Venture View V1\n",
       "4    Venture View V1\n",
       "Name: AssessmentVersion, dtype: object"
      ]
     },
     "execution_count": 18,
     "metadata": {},
     "output_type": "execute_result"
    }
   ],
   "source": [
    "data.AssessmentVersion.head()"
   ]
  },
  {
   "cell_type": "markdown",
   "metadata": {},
   "source": [
    "It can be seen that Assesment and AssesmentVersion are same just that there are come version"
   ]
  },
  {
   "cell_type": "code",
   "execution_count": 19,
   "metadata": {},
   "outputs": [
    {
     "data": {
      "text/plain": [
       "<matplotlib.axes._subplots.AxesSubplot at 0x124c1278>"
      ]
     },
     "execution_count": 19,
     "metadata": {},
     "output_type": "execute_result"
    },
    {
     "data": {
      "image/png": "[encoded data removed]",
      "text/plain": [
       "<Figure size 432x288 with 1 Axes>"
      ]
     },
     "metadata": {
      "needs_background": "light"
     },
     "output_type": "display_data"
    }
   ],
   "source": [
    "sns.boxplot(x=data.Group,y=data.MainScore)"
   ]
  },
  {
   "cell_type": "markdown",
   "metadata": {},
   "source": [
    "It can be seen that there is not major change between Group and Main Score"
   ]
  },
  {
   "cell_type": "code",
   "execution_count": 20,
   "metadata": {},
   "outputs": [
    {
     "data": {
      "text/plain": [
       "<matplotlib.axes._subplots.AxesSubplot at 0x12740c88>"
      ]
     },
     "execution_count": 20,
     "metadata": {},
     "output_type": "execute_result"
    },
    {
     "data": {
      "image/png": "[encoded data removed]",
      "text/plain": [
       "<Figure size 432x288 with 1 Axes>"
      ]
     },
     "metadata": {
      "needs_background": "light"
     },
     "output_type": "display_data"
    }
   ],
   "source": [
    "sns.boxplot(x=data.STEN,y=data.MainScore)"
   ]
  },
  {
   "cell_type": "code",
   "execution_count": 21,
   "metadata": {},
   "outputs": [
    {
     "data": {
      "text/plain": [
       "Group\n",
       "A    34.918550\n",
       "B    32.404675\n",
       "C    35.971350\n",
       "Name: MainScore, dtype: float64"
      ]
     },
     "execution_count": 21,
     "metadata": {},
     "output_type": "execute_result"
    }
   ],
   "source": [
    "data.groupby(\"Group\").MainScore.mean()"
   ]
  },
  {
   "cell_type": "code",
   "execution_count": 22,
   "metadata": {},
   "outputs": [
    {
     "data": {
      "text/plain": [
       "<matplotlib.axes._subplots.AxesSubplot at 0x12a7fe80>"
      ]
     },
     "execution_count": 22,
     "metadata": {},
     "output_type": "execute_result"
    },
    {
     "data": {
      "image/png": "[encoded data removed]",
      "text/plain": [
       "<Figure size 432x288 with 1 Axes>"
      ]
     },
     "metadata": {
      "needs_background": "light"
     },
     "output_type": "display_data"
    }
   ],
   "source": [
    "data.groupby(\"Group\").MainScore.mean().plot(kind=\"bar\")"
   ]
  },
  {
   "cell_type": "code",
   "execution_count": 23,
   "metadata": {},
   "outputs": [
    {
     "data": {
      "text/plain": [
       "Group\n",
       "A    12.5\n",
       "B    10.0\n",
       "C    15.0\n",
       "Name: MainScore, dtype: float64"
      ]
     },
     "execution_count": 23,
     "metadata": {},
     "output_type": "execute_result"
    }
   ],
   "source": [
    "data.groupby(\"Group\").MainScore.median()"
   ]
  },
  {
   "cell_type": "code",
   "execution_count": 24,
   "metadata": {},
   "outputs": [
    {
     "data": {
      "text/plain": [
       "<matplotlib.axes._subplots.AxesSubplot at 0x12cbc940>"
      ]
     },
     "execution_count": 24,
     "metadata": {},
     "output_type": "execute_result"
    },
    {
     "data": {
      "image/png": "[encoded data removed]",
      "text/plain": [
       "<Figure size 432x288 with 1 Axes>"
      ]
     },
     "metadata": {
      "needs_background": "light"
     },
     "output_type": "display_data"
    }
   ],
   "source": [
    "data.groupby(\"Group\").MainScore.median().plot(kind=\"bar\")"
   ]
  },
  {
   "cell_type": "code",
   "execution_count": 25,
   "metadata": {},
   "outputs": [
    {
     "data": {
      "text/html": [
       "<div>\n",
       "<style scoped>\n",
       "    .dataframe tbody tr th:only-of-type {\n",
       "        vertical-align: middle;\n",
       "    }\n",
       "\n",
       "    .dataframe tbody tr th {\n",
       "        vertical-align: top;\n",
       "    }\n",
       "\n",
       "    .dataframe thead th {\n",
       "        text-align: right;\n",
       "    }\n",
       "</style>\n",
       "<table border=\"1\" class=\"dataframe\">\n",
       "  <thead>\n",
       "    <tr style=\"text-align: right;\">\n",
       "      <th></th>\n",
       "      <th>max</th>\n",
       "      <th>min</th>\n",
       "    </tr>\n",
       "    <tr>\n",
       "      <th>STEN</th>\n",
       "      <th></th>\n",
       "      <th></th>\n",
       "    </tr>\n",
       "  </thead>\n",
       "  <tbody>\n",
       "    <tr>\n",
       "      <th>1</th>\n",
       "      <td>2</td>\n",
       "      <td>0</td>\n",
       "    </tr>\n",
       "    <tr>\n",
       "      <th>2</th>\n",
       "      <td>6</td>\n",
       "      <td>3</td>\n",
       "    </tr>\n",
       "    <tr>\n",
       "      <th>3</th>\n",
       "      <td>15</td>\n",
       "      <td>7</td>\n",
       "    </tr>\n",
       "    <tr>\n",
       "      <th>4</th>\n",
       "      <td>30</td>\n",
       "      <td>16</td>\n",
       "    </tr>\n",
       "    <tr>\n",
       "      <th>5</th>\n",
       "      <td>49</td>\n",
       "      <td>31</td>\n",
       "    </tr>\n",
       "    <tr>\n",
       "      <th>6</th>\n",
       "      <td>69</td>\n",
       "      <td>50</td>\n",
       "    </tr>\n",
       "    <tr>\n",
       "      <th>7</th>\n",
       "      <td>84</td>\n",
       "      <td>70</td>\n",
       "    </tr>\n",
       "    <tr>\n",
       "      <th>8</th>\n",
       "      <td>93</td>\n",
       "      <td>85</td>\n",
       "    </tr>\n",
       "    <tr>\n",
       "      <th>9</th>\n",
       "      <td>97</td>\n",
       "      <td>94</td>\n",
       "    </tr>\n",
       "    <tr>\n",
       "      <th>10</th>\n",
       "      <td>100</td>\n",
       "      <td>98</td>\n",
       "    </tr>\n",
       "  </tbody>\n",
       "</table>\n",
       "</div>"
      ],
      "text/plain": [
       "      max  min\n",
       "STEN          \n",
       "1       2    0\n",
       "2       6    3\n",
       "3      15    7\n",
       "4      30   16\n",
       "5      49   31\n",
       "6      69   50\n",
       "7      84   70\n",
       "8      93   85\n",
       "9      97   94\n",
       "10    100   98"
      ]
     },
     "execution_count": 25,
     "metadata": {},
     "output_type": "execute_result"
    }
   ],
   "source": [
    "# STEN aned Percentile\n",
    "data.groupby(\"STEN\").Percentile.agg([\"max\",\"min\"])"
   ]
  },
  {
   "cell_type": "markdown",
   "metadata": {},
   "source": [
    "It can be seen that Percentile and Sten are realted. So can remove the Percentile value. Can find the maximum and minimum value of percentile for each STEN is found\n"
   ]
  },
  {
   "cell_type": "markdown",
   "metadata": {},
   "source": [
    "## Summary\n",
    "\n",
    "The model score is being calculated based on Area,Dimension,Attribute,Assessment. From the main score type The percentile, percentage and STEN the Group also be found.\n",
    "\n",
    "The percentage, Percentile and Main score are related.\n",
    "\n",
    "\n",
    "Most importnat factor is STEN , AREA , Dimension and main score . Using these the group can be determined.\n",
    "\n",
    "* It can be inferred that there around **75%** of employees having rating between **4 to 8.**\n",
    "* It can be seen that aroung 19.16% of employess got rating 6\n",
    "* There are around 16.61% of files got rating 5 followed by rating 7\n",
    "* It can be inferred that there around 75% of employees having rating between 4 to 8.\n",
    "\n",
    "* 7% of employees got 10 rating anf 1.14% of employees got rating 1"
   ]
  },
  {
   "cell_type": "markdown",
   "metadata": {},
   "source": [
    "### Q2\n",
    "If possible, build a predictive model of the performance ratings using Cognisess scores. The client may want to use such a model in their recruitment process. Produce a summary of your modelling process and any resulting models"
   ]
  },
  {
   "cell_type": "code",
   "execution_count": 26,
   "metadata": {},
   "outputs": [
    {
     "name": "stderr",
     "output_type": "stream",
     "text": [
      "C:\\Users\\dell\\Anaconda3\\lib\\site-packages\\ipykernel_launcher.py:2: SettingWithCopyWarning: \n",
      "A value is trying to be set on a copy of a slice from a DataFrame\n",
      "\n",
      "See the caveats in the documentation: https://pandas.pydata.org/pandas-docs/stable/user_guide/indexing.html#returning-a-view-versus-a-copy\n",
      "  \n",
      "C:\\Users\\dell\\Anaconda3\\lib\\site-packages\\ipykernel_launcher.py:3: SettingWithCopyWarning: \n",
      "A value is trying to be set on a copy of a slice from a DataFrame\n",
      "\n",
      "See the caveats in the documentation: https://pandas.pydata.org/pandas-docs/stable/user_guide/indexing.html#returning-a-view-versus-a-copy\n",
      "  This is separate from the ipykernel package so we can avoid doing imports until\n",
      "C:\\Users\\dell\\Anaconda3\\lib\\site-packages\\ipykernel_launcher.py:4: SettingWithCopyWarning: \n",
      "A value is trying to be set on a copy of a slice from a DataFrame\n",
      "\n",
      "See the caveats in the documentation: https://pandas.pydata.org/pandas-docs/stable/user_guide/indexing.html#returning-a-view-versus-a-copy\n",
      "  after removing the cwd from sys.path.\n"
     ]
    }
   ],
   "source": [
    "# Replacing strings with numbers for Data Analysis\n",
    "data.Group[data.Group == 'A'] = 1\n",
    "data.Group[data.Group == 'B'] = 2\n",
    "data.Group[data.Group == 'C'] = 3"
   ]
  },
  {
   "cell_type": "code",
   "execution_count": 27,
   "metadata": {},
   "outputs": [
    {
     "data": {
      "text/html": [
       "<div>\n",
       "<style scoped>\n",
       "    .dataframe tbody tr th:only-of-type {\n",
       "        vertical-align: middle;\n",
       "    }\n",
       "\n",
       "    .dataframe tbody tr th {\n",
       "        vertical-align: top;\n",
       "    }\n",
       "\n",
       "    .dataframe thead th {\n",
       "        text-align: right;\n",
       "    }\n",
       "</style>\n",
       "<table border=\"1\" class=\"dataframe\">\n",
       "  <thead>\n",
       "    <tr style=\"text-align: right;\">\n",
       "      <th></th>\n",
       "      <th>AccountId</th>\n",
       "      <th>Area</th>\n",
       "      <th>Dimension</th>\n",
       "      <th>Attribute</th>\n",
       "      <th>Assessment</th>\n",
       "      <th>AssessmentVersion</th>\n",
       "      <th>MainScore</th>\n",
       "      <th>MainScoreType</th>\n",
       "      <th>Percentile</th>\n",
       "      <th>Percentage</th>\n",
       "      <th>STEN</th>\n",
       "      <th>Group</th>\n",
       "    </tr>\n",
       "  </thead>\n",
       "  <tbody>\n",
       "    <tr>\n",
       "      <th>0</th>\n",
       "      <td>0</td>\n",
       "      <td>Behaviour</td>\n",
       "      <td>Control Strategy</td>\n",
       "      <td>Control</td>\n",
       "      <td>VentureView</td>\n",
       "      <td>Venture View V1</td>\n",
       "      <td>60.27</td>\n",
       "      <td>Percentage</td>\n",
       "      <td>7</td>\n",
       "      <td>60.27</td>\n",
       "      <td>3</td>\n",
       "      <td>2</td>\n",
       "    </tr>\n",
       "    <tr>\n",
       "      <th>1</th>\n",
       "      <td>0</td>\n",
       "      <td>Behaviour</td>\n",
       "      <td>Control Strategy</td>\n",
       "      <td>Control (Scenario1)</td>\n",
       "      <td>VentureView</td>\n",
       "      <td>Venture View V1</td>\n",
       "      <td>67.86</td>\n",
       "      <td>Percentage</td>\n",
       "      <td>22</td>\n",
       "      <td>67.86</td>\n",
       "      <td>4</td>\n",
       "      <td>2</td>\n",
       "    </tr>\n",
       "    <tr>\n",
       "      <th>2</th>\n",
       "      <td>0</td>\n",
       "      <td>Behaviour</td>\n",
       "      <td>Control Strategy</td>\n",
       "      <td>Control (Scenario2)</td>\n",
       "      <td>VentureView</td>\n",
       "      <td>Venture View V1</td>\n",
       "      <td>62.50</td>\n",
       "      <td>Percentage</td>\n",
       "      <td>27</td>\n",
       "      <td>62.50</td>\n",
       "      <td>4</td>\n",
       "      <td>2</td>\n",
       "    </tr>\n",
       "    <tr>\n",
       "      <th>3</th>\n",
       "      <td>0</td>\n",
       "      <td>Behaviour</td>\n",
       "      <td>Control Strategy</td>\n",
       "      <td>Control (Scenario3)</td>\n",
       "      <td>VentureView</td>\n",
       "      <td>Venture View V1</td>\n",
       "      <td>55.36</td>\n",
       "      <td>Percentage</td>\n",
       "      <td>7</td>\n",
       "      <td>55.36</td>\n",
       "      <td>3</td>\n",
       "      <td>2</td>\n",
       "    </tr>\n",
       "    <tr>\n",
       "      <th>4</th>\n",
       "      <td>0</td>\n",
       "      <td>Behaviour</td>\n",
       "      <td>Control Strategy</td>\n",
       "      <td>Control (Scenario4)</td>\n",
       "      <td>VentureView</td>\n",
       "      <td>Venture View V1</td>\n",
       "      <td>55.36</td>\n",
       "      <td>Percentage</td>\n",
       "      <td>4</td>\n",
       "      <td>55.36</td>\n",
       "      <td>2</td>\n",
       "      <td>2</td>\n",
       "    </tr>\n",
       "  </tbody>\n",
       "</table>\n",
       "</div>"
      ],
      "text/plain": [
       "   AccountId       Area         Dimension            Attribute   Assessment  \\\n",
       "0          0  Behaviour  Control Strategy              Control  VentureView   \n",
       "1          0  Behaviour  Control Strategy  Control (Scenario1)  VentureView   \n",
       "2          0  Behaviour  Control Strategy  Control (Scenario2)  VentureView   \n",
       "3          0  Behaviour  Control Strategy  Control (Scenario3)  VentureView   \n",
       "4          0  Behaviour  Control Strategy  Control (Scenario4)  VentureView   \n",
       "\n",
       "  AssessmentVersion  MainScore MainScoreType  Percentile  Percentage  STEN  \\\n",
       "0   Venture View V1      60.27    Percentage           7       60.27     3   \n",
       "1   Venture View V1      67.86    Percentage          22       67.86     4   \n",
       "2   Venture View V1      62.50    Percentage          27       62.50     4   \n",
       "3   Venture View V1      55.36    Percentage           7       55.36     3   \n",
       "4   Venture View V1      55.36    Percentage           4       55.36     2   \n",
       "\n",
       "  Group  \n",
       "0     2  \n",
       "1     2  \n",
       "2     2  \n",
       "3     2  \n",
       "4     2  "
      ]
     },
     "execution_count": 27,
     "metadata": {},
     "output_type": "execute_result"
    }
   ],
   "source": [
    "data.head()"
   ]
  },
  {
   "cell_type": "code",
   "execution_count": 28,
   "metadata": {},
   "outputs": [
    {
     "data": {
      "text/plain": [
       "134"
      ]
     },
     "execution_count": 28,
     "metadata": {},
     "output_type": "execute_result"
    }
   ],
   "source": [
    "# There are 134 records with NULL\n",
    "data.Group.isna().sum()"
   ]
  },
  {
   "cell_type": "code",
   "execution_count": 29,
   "metadata": {},
   "outputs": [
    {
     "data": {
      "text/plain": [
       "array([ 94, 154], dtype=int64)"
      ]
     },
     "execution_count": 29,
     "metadata": {},
     "output_type": "execute_result"
    }
   ],
   "source": [
    "data[\"AccountId\"][data.Group.isna()].unique()"
   ]
  },
  {
   "cell_type": "markdown",
   "metadata": {},
   "source": [
    "The account id 94 and 154 does not any group. So it can be precited"
   ]
  },
  {
   "cell_type": "code",
   "execution_count": 30,
   "metadata": {},
   "outputs": [],
   "source": [
    "# creating a data copy\n",
    "data_new= data"
   ]
  },
  {
   "cell_type": "code",
   "execution_count": 31,
   "metadata": {},
   "outputs": [
    {
     "data": {
      "text/plain": [
       "Index(['AccountId', 'Area', 'Dimension', 'Attribute', 'Assessment',\n",
       "       'AssessmentVersion', 'MainScore', 'MainScoreType', 'Percentile',\n",
       "       'Percentage', 'STEN', 'Group'],\n",
       "      dtype='object')"
      ]
     },
     "execution_count": 31,
     "metadata": {},
     "output_type": "execute_result"
    }
   ],
   "source": [
    "data_new.columns"
   ]
  },
  {
   "cell_type": "code",
   "execution_count": 32,
   "metadata": {},
   "outputs": [],
   "source": [
    "# Columns to be dropped\n",
    "columns=['AccountId','AssessmentVersion']"
   ]
  },
  {
   "cell_type": "code",
   "execution_count": 33,
   "metadata": {},
   "outputs": [],
   "source": [
    "data_new=data_new.drop(columns, axis=1)"
   ]
  },
  {
   "cell_type": "code",
   "execution_count": 34,
   "metadata": {},
   "outputs": [],
   "source": [
    "# Defining the map function\n",
    "def dummies(x,df):\n",
    "    temp = pd.get_dummies(df[x], drop_first = True)\n",
    "    df = pd.concat([df, temp], axis = 1)\n",
    "    df.drop([x], axis = 1, inplace = True)\n",
    "    return df\n",
    "# Applying the function to the data_new\n",
    "\n",
    "data_new = dummies(\"Area\",data_new)\n",
    "data_new = dummies('Dimension',data_new)\n",
    "data_new = dummies(\"MainScoreType\",data_new)\n",
    "data_new = dummies(\"Attribute\",data_new)\n",
    "data_new = dummies(\"Assessment\",data_new)"
   ]
  },
  {
   "cell_type": "code",
   "execution_count": 35,
   "metadata": {},
   "outputs": [
    {
     "data": {
      "text/html": [
       "<div>\n",
       "<style scoped>\n",
       "    .dataframe tbody tr th:only-of-type {\n",
       "        vertical-align: middle;\n",
       "    }\n",
       "\n",
       "    .dataframe tbody tr th {\n",
       "        vertical-align: top;\n",
       "    }\n",
       "\n",
       "    .dataframe thead th {\n",
       "        text-align: right;\n",
       "    }\n",
       "</style>\n",
       "<table border=\"1\" class=\"dataframe\">\n",
       "  <thead>\n",
       "    <tr style=\"text-align: right;\">\n",
       "      <th></th>\n",
       "      <th>MainScore</th>\n",
       "      <th>Percentile</th>\n",
       "      <th>Percentage</th>\n",
       "      <th>STEN</th>\n",
       "      <th>Group</th>\n",
       "      <th>Behaviour</th>\n",
       "      <th>Bespoke</th>\n",
       "      <th>Career</th>\n",
       "      <th>Cognitive</th>\n",
       "      <th>Emotional</th>\n",
       "      <th>...</th>\n",
       "      <th>ShapeShifter</th>\n",
       "      <th>SpeedBall</th>\n",
       "      <th>SpeedTrap</th>\n",
       "      <th>SpeedWay</th>\n",
       "      <th>The Lens Pro</th>\n",
       "      <th>The Lens Student</th>\n",
       "      <th>VentureView</th>\n",
       "      <th>WordMatch</th>\n",
       "      <th>WordRight</th>\n",
       "      <th>Ziggurat</th>\n",
       "    </tr>\n",
       "  </thead>\n",
       "  <tbody>\n",
       "    <tr>\n",
       "      <th>0</th>\n",
       "      <td>60.27</td>\n",
       "      <td>7</td>\n",
       "      <td>60.27</td>\n",
       "      <td>3</td>\n",
       "      <td>2</td>\n",
       "      <td>1</td>\n",
       "      <td>0</td>\n",
       "      <td>0</td>\n",
       "      <td>0</td>\n",
       "      <td>0</td>\n",
       "      <td>...</td>\n",
       "      <td>0</td>\n",
       "      <td>0</td>\n",
       "      <td>0</td>\n",
       "      <td>0</td>\n",
       "      <td>0</td>\n",
       "      <td>0</td>\n",
       "      <td>1</td>\n",
       "      <td>0</td>\n",
       "      <td>0</td>\n",
       "      <td>0</td>\n",
       "    </tr>\n",
       "    <tr>\n",
       "      <th>1</th>\n",
       "      <td>67.86</td>\n",
       "      <td>22</td>\n",
       "      <td>67.86</td>\n",
       "      <td>4</td>\n",
       "      <td>2</td>\n",
       "      <td>1</td>\n",
       "      <td>0</td>\n",
       "      <td>0</td>\n",
       "      <td>0</td>\n",
       "      <td>0</td>\n",
       "      <td>...</td>\n",
       "      <td>0</td>\n",
       "      <td>0</td>\n",
       "      <td>0</td>\n",
       "      <td>0</td>\n",
       "      <td>0</td>\n",
       "      <td>0</td>\n",
       "      <td>1</td>\n",
       "      <td>0</td>\n",
       "      <td>0</td>\n",
       "      <td>0</td>\n",
       "    </tr>\n",
       "    <tr>\n",
       "      <th>2</th>\n",
       "      <td>62.50</td>\n",
       "      <td>27</td>\n",
       "      <td>62.50</td>\n",
       "      <td>4</td>\n",
       "      <td>2</td>\n",
       "      <td>1</td>\n",
       "      <td>0</td>\n",
       "      <td>0</td>\n",
       "      <td>0</td>\n",
       "      <td>0</td>\n",
       "      <td>...</td>\n",
       "      <td>0</td>\n",
       "      <td>0</td>\n",
       "      <td>0</td>\n",
       "      <td>0</td>\n",
       "      <td>0</td>\n",
       "      <td>0</td>\n",
       "      <td>1</td>\n",
       "      <td>0</td>\n",
       "      <td>0</td>\n",
       "      <td>0</td>\n",
       "    </tr>\n",
       "    <tr>\n",
       "      <th>3</th>\n",
       "      <td>55.36</td>\n",
       "      <td>7</td>\n",
       "      <td>55.36</td>\n",
       "      <td>3</td>\n",
       "      <td>2</td>\n",
       "      <td>1</td>\n",
       "      <td>0</td>\n",
       "      <td>0</td>\n",
       "      <td>0</td>\n",
       "      <td>0</td>\n",
       "      <td>...</td>\n",
       "      <td>0</td>\n",
       "      <td>0</td>\n",
       "      <td>0</td>\n",
       "      <td>0</td>\n",
       "      <td>0</td>\n",
       "      <td>0</td>\n",
       "      <td>1</td>\n",
       "      <td>0</td>\n",
       "      <td>0</td>\n",
       "      <td>0</td>\n",
       "    </tr>\n",
       "    <tr>\n",
       "      <th>4</th>\n",
       "      <td>55.36</td>\n",
       "      <td>4</td>\n",
       "      <td>55.36</td>\n",
       "      <td>2</td>\n",
       "      <td>2</td>\n",
       "      <td>1</td>\n",
       "      <td>0</td>\n",
       "      <td>0</td>\n",
       "      <td>0</td>\n",
       "      <td>0</td>\n",
       "      <td>...</td>\n",
       "      <td>0</td>\n",
       "      <td>0</td>\n",
       "      <td>0</td>\n",
       "      <td>0</td>\n",
       "      <td>0</td>\n",
       "      <td>0</td>\n",
       "      <td>1</td>\n",
       "      <td>0</td>\n",
       "      <td>0</td>\n",
       "      <td>0</td>\n",
       "    </tr>\n",
       "  </tbody>\n",
       "</table>\n",
       "<p>5 rows × 230 columns</p>\n",
       "</div>"
      ],
      "text/plain": [
       "   MainScore  Percentile  Percentage  STEN Group  Behaviour  Bespoke  Career  \\\n",
       "0      60.27           7       60.27     3     2          1        0       0   \n",
       "1      67.86          22       67.86     4     2          1        0       0   \n",
       "2      62.50          27       62.50     4     2          1        0       0   \n",
       "3      55.36           7       55.36     3     2          1        0       0   \n",
       "4      55.36           4       55.36     2     2          1        0       0   \n",
       "\n",
       "   Cognitive  Emotional  ...  ShapeShifter  SpeedBall  SpeedTrap  SpeedWay  \\\n",
       "0          0          0  ...             0          0          0         0   \n",
       "1          0          0  ...             0          0          0         0   \n",
       "2          0          0  ...             0          0          0         0   \n",
       "3          0          0  ...             0          0          0         0   \n",
       "4          0          0  ...             0          0          0         0   \n",
       "\n",
       "   The Lens Pro  The Lens Student  VentureView  WordMatch  WordRight  Ziggurat  \n",
       "0             0                 0            1          0          0         0  \n",
       "1             0                 0            1          0          0         0  \n",
       "2             0                 0            1          0          0         0  \n",
       "3             0                 0            1          0          0         0  \n",
       "4             0                 0            1          0          0         0  \n",
       "\n",
       "[5 rows x 230 columns]"
      ]
     },
     "execution_count": 35,
     "metadata": {},
     "output_type": "execute_result"
    }
   ],
   "source": [
    "data_new.head()"
   ]
  },
  {
   "cell_type": "code",
   "execution_count": 36,
   "metadata": {},
   "outputs": [],
   "source": [
    "data_new.dropna(inplace=True)"
   ]
  },
  {
   "cell_type": "code",
   "execution_count": 37,
   "metadata": {},
   "outputs": [],
   "source": [
    "# Splitting into  x and y\n",
    "x= data_new.drop(\"Group\",axis=1)\n",
    "y=data_new[[\"Group\"]]\n",
    "y=y.astype('int')"
   ]
  },
  {
   "cell_type": "code",
   "execution_count": 38,
   "metadata": {},
   "outputs": [],
   "source": [
    "# Splitting into test and train\n",
    "from sklearn.model_selection import train_test_split\n",
    "x_train, x_test, y_train,y_test = train_test_split(x,y,test_size=0.2)"
   ]
  },
  {
   "cell_type": "code",
   "execution_count": 39,
   "metadata": {},
   "outputs": [
    {
     "data": {
      "text/html": [
       "<div>\n",
       "<style scoped>\n",
       "    .dataframe tbody tr th:only-of-type {\n",
       "        vertical-align: middle;\n",
       "    }\n",
       "\n",
       "    .dataframe tbody tr th {\n",
       "        vertical-align: top;\n",
       "    }\n",
       "\n",
       "    .dataframe thead th {\n",
       "        text-align: right;\n",
       "    }\n",
       "</style>\n",
       "<table border=\"1\" class=\"dataframe\">\n",
       "  <thead>\n",
       "    <tr style=\"text-align: right;\">\n",
       "      <th></th>\n",
       "      <th>MainScore</th>\n",
       "      <th>Percentile</th>\n",
       "      <th>Percentage</th>\n",
       "      <th>STEN</th>\n",
       "      <th>Behaviour</th>\n",
       "      <th>Bespoke</th>\n",
       "      <th>Career</th>\n",
       "      <th>Cognitive</th>\n",
       "      <th>Emotional</th>\n",
       "      <th>Feedback</th>\n",
       "      <th>...</th>\n",
       "      <th>ShapeShifter</th>\n",
       "      <th>SpeedBall</th>\n",
       "      <th>SpeedTrap</th>\n",
       "      <th>SpeedWay</th>\n",
       "      <th>The Lens Pro</th>\n",
       "      <th>The Lens Student</th>\n",
       "      <th>VentureView</th>\n",
       "      <th>WordMatch</th>\n",
       "      <th>WordRight</th>\n",
       "      <th>Ziggurat</th>\n",
       "    </tr>\n",
       "  </thead>\n",
       "  <tbody>\n",
       "    <tr>\n",
       "      <th>4636</th>\n",
       "      <td>6.0</td>\n",
       "      <td>54</td>\n",
       "      <td>71.00</td>\n",
       "      <td>6</td>\n",
       "      <td>0</td>\n",
       "      <td>0</td>\n",
       "      <td>0</td>\n",
       "      <td>0</td>\n",
       "      <td>0</td>\n",
       "      <td>0</td>\n",
       "      <td>...</td>\n",
       "      <td>0</td>\n",
       "      <td>0</td>\n",
       "      <td>0</td>\n",
       "      <td>0</td>\n",
       "      <td>1</td>\n",
       "      <td>0</td>\n",
       "      <td>0</td>\n",
       "      <td>0</td>\n",
       "      <td>0</td>\n",
       "      <td>0</td>\n",
       "    </tr>\n",
       "    <tr>\n",
       "      <th>783</th>\n",
       "      <td>6.0</td>\n",
       "      <td>59</td>\n",
       "      <td>71.43</td>\n",
       "      <td>6</td>\n",
       "      <td>0</td>\n",
       "      <td>0</td>\n",
       "      <td>0</td>\n",
       "      <td>0</td>\n",
       "      <td>0</td>\n",
       "      <td>0</td>\n",
       "      <td>...</td>\n",
       "      <td>0</td>\n",
       "      <td>0</td>\n",
       "      <td>0</td>\n",
       "      <td>0</td>\n",
       "      <td>1</td>\n",
       "      <td>0</td>\n",
       "      <td>0</td>\n",
       "      <td>0</td>\n",
       "      <td>0</td>\n",
       "      <td>0</td>\n",
       "    </tr>\n",
       "    <tr>\n",
       "      <th>6633</th>\n",
       "      <td>8.0</td>\n",
       "      <td>90</td>\n",
       "      <td>85.71</td>\n",
       "      <td>8</td>\n",
       "      <td>0</td>\n",
       "      <td>0</td>\n",
       "      <td>0</td>\n",
       "      <td>0</td>\n",
       "      <td>0</td>\n",
       "      <td>0</td>\n",
       "      <td>...</td>\n",
       "      <td>0</td>\n",
       "      <td>0</td>\n",
       "      <td>0</td>\n",
       "      <td>0</td>\n",
       "      <td>1</td>\n",
       "      <td>0</td>\n",
       "      <td>0</td>\n",
       "      <td>0</td>\n",
       "      <td>0</td>\n",
       "      <td>0</td>\n",
       "    </tr>\n",
       "    <tr>\n",
       "      <th>386</th>\n",
       "      <td>10.0</td>\n",
       "      <td>99</td>\n",
       "      <td>95.24</td>\n",
       "      <td>10</td>\n",
       "      <td>0</td>\n",
       "      <td>0</td>\n",
       "      <td>0</td>\n",
       "      <td>0</td>\n",
       "      <td>0</td>\n",
       "      <td>0</td>\n",
       "      <td>...</td>\n",
       "      <td>0</td>\n",
       "      <td>0</td>\n",
       "      <td>0</td>\n",
       "      <td>0</td>\n",
       "      <td>1</td>\n",
       "      <td>0</td>\n",
       "      <td>0</td>\n",
       "      <td>0</td>\n",
       "      <td>0</td>\n",
       "      <td>0</td>\n",
       "    </tr>\n",
       "    <tr>\n",
       "      <th>1290</th>\n",
       "      <td>10.0</td>\n",
       "      <td>100</td>\n",
       "      <td>100.00</td>\n",
       "      <td>10</td>\n",
       "      <td>0</td>\n",
       "      <td>0</td>\n",
       "      <td>0</td>\n",
       "      <td>0</td>\n",
       "      <td>0</td>\n",
       "      <td>0</td>\n",
       "      <td>...</td>\n",
       "      <td>0</td>\n",
       "      <td>0</td>\n",
       "      <td>0</td>\n",
       "      <td>0</td>\n",
       "      <td>1</td>\n",
       "      <td>0</td>\n",
       "      <td>0</td>\n",
       "      <td>0</td>\n",
       "      <td>0</td>\n",
       "      <td>0</td>\n",
       "    </tr>\n",
       "  </tbody>\n",
       "</table>\n",
       "<p>5 rows × 229 columns</p>\n",
       "</div>"
      ],
      "text/plain": [
       "      MainScore  Percentile  Percentage  STEN  Behaviour  Bespoke  Career  \\\n",
       "4636        6.0          54       71.00     6          0        0       0   \n",
       "783         6.0          59       71.43     6          0        0       0   \n",
       "6633        8.0          90       85.71     8          0        0       0   \n",
       "386        10.0          99       95.24    10          0        0       0   \n",
       "1290       10.0         100      100.00    10          0        0       0   \n",
       "\n",
       "      Cognitive  Emotional  Feedback  ...  ShapeShifter  SpeedBall  SpeedTrap  \\\n",
       "4636          0          0         0  ...             0          0          0   \n",
       "783           0          0         0  ...             0          0          0   \n",
       "6633          0          0         0  ...             0          0          0   \n",
       "386           0          0         0  ...             0          0          0   \n",
       "1290          0          0         0  ...             0          0          0   \n",
       "\n",
       "      SpeedWay  The Lens Pro  The Lens Student  VentureView  WordMatch  \\\n",
       "4636         0             1                 0            0          0   \n",
       "783          0             1                 0            0          0   \n",
       "6633         0             1                 0            0          0   \n",
       "386          0             1                 0            0          0   \n",
       "1290         0             1                 0            0          0   \n",
       "\n",
       "      WordRight  Ziggurat  \n",
       "4636          0         0  \n",
       "783           0         0  \n",
       "6633          0         0  \n",
       "386           0         0  \n",
       "1290          0         0  \n",
       "\n",
       "[5 rows x 229 columns]"
      ]
     },
     "execution_count": 39,
     "metadata": {},
     "output_type": "execute_result"
    }
   ],
   "source": [
    "x_train.head()"
   ]
  },
  {
   "cell_type": "code",
   "execution_count": 40,
   "metadata": {},
   "outputs": [
    {
     "name": "stdout",
     "output_type": "stream",
     "text": [
      "0.7110199296600235\n",
      "0.44932630345635616\n"
     ]
    }
   ],
   "source": [
    "from sklearn.tree import DecisionTreeClassifier\n",
    "dtree = DecisionTreeClassifier()\n",
    "dtree.fit(x_train,y_train)\n",
    "print(dtree.score(x_train,y_train))\n",
    "print(dtree.score(x_test,y_test))"
   ]
  },
  {
   "cell_type": "code",
   "execution_count": 41,
   "metadata": {},
   "outputs": [
    {
     "name": "stderr",
     "output_type": "stream",
     "text": [
      "C:\\Users\\dell\\Anaconda3\\lib\\site-packages\\sklearn\\linear_model\\logistic.py:433: FutureWarning: Default solver will be changed to 'lbfgs' in 0.22. Specify a solver to silence this warning.\n",
      "  FutureWarning)\n",
      "C:\\Users\\dell\\Anaconda3\\lib\\site-packages\\sklearn\\utils\\validation.py:761: DataConversionWarning: A column-vector y was passed when a 1d array was expected. Please change the shape of y to (n_samples, ), for example using ravel().\n",
      "  y = column_or_1d(y, warn=True)\n",
      "C:\\Users\\dell\\Anaconda3\\lib\\site-packages\\sklearn\\linear_model\\logistic.py:460: FutureWarning: Default multi_class will be changed to 'auto' in 0.22. Specify the multi_class option to silence this warning.\n",
      "  \"this warning.\", FutureWarning)\n"
     ]
    },
    {
     "name": "stdout",
     "output_type": "stream",
     "text": [
      "0.5186107854630715\n",
      "0.5038078500292912\n"
     ]
    }
   ],
   "source": [
    "from sklearn.linear_model import LogisticRegression\n",
    "model = LogisticRegression()\n",
    "model.fit(x_train,y_train)\n",
    "print(model.score(x_train,y_train))\n",
    "print(model.score(x_test,y_test))"
   ]
  },
  {
   "cell_type": "markdown",
   "metadata": {},
   "source": [
    "### Model Summary\n",
    "\n",
    "It can be seen that there model can be build using decision tree and Logistic Regression . The decision tree gives better results as accuracy is high in the decision tree. This can be used for prediction of future. But in reality we go for logistic.\n"
   ]
  },
  {
   "cell_type": "code",
   "execution_count": null,
   "metadata": {},
   "outputs": [],
   "source": []
  }
 ],
 "metadata": {
  "kernelspec": {
   "display_name": "Python 3",
   "language": "python",
   "name": "python3"
  },
  "language_info": {
   "codemirror_mode": {
    "name": "ipython",
    "version": 3
   },
   "file_extension": ".py",
   "mimetype": "text/x-python",
   "name": "python",
   "nbconvert_exporter": "python",
   "pygments_lexer": "ipython3",
   "version": "3.7.3"
  }
 },
 "nbformat": 4,
 "nbformat_minor": 2
}
